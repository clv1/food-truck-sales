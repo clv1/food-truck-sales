{
 "cells": [
  {
   "cell_type": "markdown",
   "metadata": {},
   "source": [
    "# Imports"
   ]
  },
  {
   "cell_type": "markdown",
   "metadata": {},
   "source": [
    "# Load data"
   ]
  },
  {
   "cell_type": "code",
   "execution_count": 7,
   "metadata": {},
   "outputs": [],
   "source": [
    "with open(\"historical_truck_data/combined_historical_truck_data.csv\", \"r\") as file:\n",
    "    truck_data = pd.read_csv(file)\n"
   ]
  },
  {
   "cell_type": "markdown",
   "metadata": {},
   "source": [
    "# Data Exploration"
   ]
  },
  {
   "cell_type": "markdown",
   "metadata": {},
   "source": [
    "### Which truck has the highest number of transactions?"
   ]
  },
  {
   "cell_type": "code",
   "execution_count": 42,
   "metadata": {},
   "outputs": [
    {
     "name": "stdout",
     "output_type": "stream",
     "text": [
      "truck_id\n",
      "3    1572\n",
      "5     945\n",
      "2     923\n",
      "1     703\n",
      "6     576\n",
      "4     322\n",
      "Name: count, dtype: int64\n",
      "truck_id: 3\n"
     ]
    }
   ],
   "source": [
    "transaction_count = truck_data['truck_id'].value_counts()\n",
    "print(transaction_count)\n",
    "most_transactions = truck_data['truck_id'].value_counts().idxmax()\n",
    "print(f\"truck_id: {most_transactions}\")"
   ]
  },
  {
   "cell_type": "markdown",
   "metadata": {},
   "source": [
    "Which truck has the lowest total transaction value?"
   ]
  },
  {
   "cell_type": "code",
   "execution_count": 47,
   "metadata": {},
   "outputs": [
    {
     "name": "stdout",
     "output_type": "stream",
     "text": [
      "truck_id\n",
      "4     854.78\n",
      "6    3378.24\n",
      "5    5201.50\n",
      "1    5407.50\n",
      "2    7458.10\n",
      "3    9314.28\n",
      "Name: total, dtype: float64\n",
      "truck_id: 4\n"
     ]
    }
   ],
   "source": [
    "transaction_value_totals = truck_data.groupby(by=[\"truck_id\"])['total'].sum().sort_values(ascending=True)\n",
    "\n",
    "print(transaction_value_totals)\n",
    "print(f\"truck_id: {transaction_value_totals.idxmin()}\")\n"
   ]
  },
  {
   "cell_type": "markdown",
   "metadata": {},
   "source": [
    "What is the average transaction value?\n"
   ]
  },
  {
   "cell_type": "code",
   "execution_count": 54,
   "metadata": {},
   "outputs": [
    {
     "name": "stdout",
     "output_type": "stream",
     "text": [
      "Average transaction value over fleet: \n",
      "£6.27\n"
     ]
    }
   ],
   "source": [
    "\n",
    "transaction_value_avg_fleet = truck_data['total'].mean() #.round(2)\n",
    "print(f\"Average transaction value over fleet: \\n£{transaction_value_avg_fleet}\")"
   ]
  },
  {
   "cell_type": "markdown",
   "metadata": {},
   "source": [
    "What is the average transaction value for each truck?"
   ]
  },
  {
   "cell_type": "code",
   "execution_count": 56,
   "metadata": {},
   "outputs": [
    {
     "name": "stdout",
     "output_type": "stream",
     "text": [
      "Average transaction value by truck: \n",
      "£truck_id\n",
      "1    7.692034\n",
      "2    8.080282\n",
      "3    5.925115\n",
      "4    2.654596\n",
      "5    5.504233\n",
      "6    5.865000\n",
      "Name: total, dtype: float64\n"
     ]
    }
   ],
   "source": [
    "transaction_value_avg = truck_data.groupby(by=[\"truck_id\"])['total'].mean() #.round(2)\n",
    "print(f\"Average transaction value by truck: \\n£{transaction_value_avg}\")"
   ]
  },
  {
   "cell_type": "markdown",
   "metadata": {},
   "source": [
    "What proportion of transactions use cash?"
   ]
  },
  {
   "cell_type": "code",
   "execution_count": 75,
   "metadata": {},
   "outputs": [
    {
     "name": "stdout",
     "output_type": "stream",
     "text": [
      "55.6%\n"
     ]
    }
   ],
   "source": [
    "PAYMENT_TYPE_ID = {'cash': 1, 'card': 2, 'crypto': 3}\n",
    "\n",
    "cash_proportion = ((truck_data['payment_type_id']\n",
    "                   == PAYMENT_TYPE_ID['cash']).mean() * 100).round(1)\n",
    "\n",
    "print(f\"{cash_proportion}%\")"
   ]
  },
  {
   "cell_type": "code",
   "execution_count": null,
   "metadata": {},
   "outputs": [],
   "source": []
  }
 ],
 "metadata": {
  "kernelspec": {
   "display_name": "venv",
   "language": "python",
   "name": "python3"
  },
  "language_info": {
   "codemirror_mode": {
    "name": "ipython",
    "version": 3
   },
   "file_extension": ".py",
   "mimetype": "text/x-python",
   "name": "python",
   "nbconvert_exporter": "python",
   "pygments_lexer": "ipython3",
   "version": "3.11.6"
  }
 },
 "nbformat": 4,
 "nbformat_minor": 2
}
